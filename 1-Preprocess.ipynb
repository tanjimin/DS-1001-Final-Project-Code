{
 "cells": [
  {
   "cell_type": "code",
   "execution_count": 359,
   "metadata": {},
   "outputs": [],
   "source": [
    "import pandas as pd\n",
    "import numpy as np\n",
    "import datetime as dt\n",
    "from sklearn import preprocessing\n",
    "import matplotlib.pyplot as plt"
   ]
  },
  {
   "cell_type": "code",
   "execution_count": 360,
   "metadata": {},
   "outputs": [],
   "source": [
    "weather = pd.read_csv('../data/KNYC.txt')\n",
    "\n",
    "getTimeWeather = lambda x: dt.datetime.strptime(x, '%m/%d/%Y %H:%M:%S')\n",
    "\n",
    "weather.Date = [getTimeWeather(x) for x in weather.Date ]\n",
    "\n",
    "weather.Date = [x.replace(hour = y) for x, y in zip(weather.Date, weather.Hour) ]\n",
    "\n",
    "weather_useful = weather[['Date', 'Temperature', 'Precip']]\n",
    "\n",
    "weather_useful = weather_useful[weather_useful.Date > dt.datetime(year = 2015, month = 1, day = 1)]\n",
    "\n",
    "weather_useful.index = weather_useful.Date"
   ]
  },
  {
   "cell_type": "code",
   "execution_count": 362,
   "metadata": {},
   "outputs": [],
   "source": [
    "weather_simple = weather_useful.drop('Date',  axis = 1)\n",
    "\n",
    "weather_simple = weather_simple.resample('30min').mean().bfill()"
   ]
  },
  {
   "cell_type": "code",
   "execution_count": 363,
   "metadata": {},
   "outputs": [],
   "source": [
    "def preprocess_data(data_set_name):\n",
    "    data = pd.read_csv('../data/data_{}.csv'.format(data_set_name))\n",
    "    getTime = lambda x: dt.datetime.strptime(x[:-5], '%Y-%m-%d %H:%M:%S')\n",
    "    data.dropna(axis = 0, inplace=True)\n",
    "    data['starttime'] = [getTime(x) for x in data['starttime']]\n",
    "    data['stoptime'] = [getTime(x) for x in data['stoptime']]\n",
    "    data['downsample'] = data['starttime']\n",
    "    data['downsample'] = [x.replace(minute = 0, second = 0) for x in data['downsample']]\n",
    "    data = data.merge(weather_useful, how = 'left', left_on = 'downsample', right_on = 'Date')\n",
    "    data.drop(columns=['downsample', 'Date'], axis = 1, inplace= True)\n",
    "    return data\n",
    "    "
   ]
  },
  {
   "cell_type": "code",
   "execution_count": 364,
   "metadata": {},
   "outputs": [
    {
     "name": "stderr",
     "output_type": "stream",
     "text": [
      "/Users/apple/miniconda3/envs/nlpclass/lib/python3.6/site-packages/ipykernel_launcher.py:9: FutureWarning: 'Date' is both an index level and a column label.\n",
      "Defaulting to column, but this will raise an ambiguity error in a future version\n",
      "  if __name__ == '__main__':\n"
     ]
    }
   ],
   "source": [
    "data_train = preprocess_data('train')\n",
    "data_train = data_train[data_train['tripduration'] < 50000]\n",
    "data_train.to_pickle('../data/train.pkl')"
   ]
  },
  {
   "cell_type": "code",
   "execution_count": 365,
   "metadata": {},
   "outputs": [
    {
     "name": "stderr",
     "output_type": "stream",
     "text": [
      "/Users/apple/miniconda3/envs/nlpclass/lib/python3.6/site-packages/ipykernel_launcher.py:9: FutureWarning: 'Date' is both an index level and a column label.\n",
      "Defaulting to column, but this will raise an ambiguity error in a future version\n",
      "  if __name__ == '__main__':\n"
     ]
    }
   ],
   "source": [
    "data_val = preprocess_data('val')\n",
    "data_val = data_val[data_val['tripduration'] < 50000]\n",
    "data_val.to_pickle('../data/val.pkl')"
   ]
  },
  {
   "cell_type": "code",
   "execution_count": 366,
   "metadata": {},
   "outputs": [
    {
     "name": "stderr",
     "output_type": "stream",
     "text": [
      "/Users/apple/miniconda3/envs/nlpclass/lib/python3.6/site-packages/ipykernel_launcher.py:9: FutureWarning: 'Date' is both an index level and a column label.\n",
      "Defaulting to column, but this will raise an ambiguity error in a future version\n",
      "  if __name__ == '__main__':\n"
     ]
    }
   ],
   "source": [
    "data_test = preprocess_data('test')\n",
    "\n",
    "data_test = data_test[data_test['tripduration'] < 50000]\n",
    "data_test.to_pickle('../data/test.pkl')"
   ]
  },
  {
   "cell_type": "code",
   "execution_count": 371,
   "metadata": {},
   "outputs": [],
   "source": [
    "# feature: area_id\n",
    "# list areas = []\n",
    "def transform(dataset, window = 30):\n",
    "    nets = []\n",
    "    for i in range(1, 32):\n",
    "        inflow = dataset[dataset['end region']==i].stoptime\n",
    "        outflow = dataset[dataset['end region']==i].starttime\n",
    "        inflow.index = inflow\n",
    "        outflow.index = outflow\n",
    "        inflow = inflow.resample('{}min'.format(window)).count()\n",
    "        outflow = outflow.resample('{}min'.format(window)).count()\n",
    "        net = pd.DataFrame((inflow - outflow), columns = ['net_inflow'])\n",
    "        net['area_id'] = i\n",
    "        net['AR1'] = net['net_inflow'].shift(1)\n",
    "        net['AR2'] = net['net_inflow'].shift(2)\n",
    "        net['AR3'] = net['net_inflow'].shift(3)\n",
    "        nets.append(net)\n",
    "    nets = pd.concat(nets, axis = 0)\n",
    "    nets.fillna(0, inplace = True)\n",
    "    nets = nets.merge(weather_simple, left_index=True, right_index=True, how = 'left')\n",
    "    return nets\n",
    "\n",
    "\n",
    "        "
   ]
  },
  {
   "cell_type": "code",
   "execution_count": 372,
   "metadata": {},
   "outputs": [],
   "source": [
    "net_train = transform(data_train)\n",
    "\n",
    "net_val = transform(data_val)\n",
    "\n",
    "net_test = transform(data_test)"
   ]
  },
  {
   "cell_type": "code",
   "execution_count": 373,
   "metadata": {},
   "outputs": [],
   "source": [
    "net_train.to_pickle('../data/net_train.pkl')\n",
    "net_val.to_pickle('../data/net_val.pkl')\n",
    "net_test.to_pickle('../data/net_test.pkl')"
   ]
  }
 ],
 "metadata": {
  "kernelspec": {
   "display_name": "Python 3",
   "language": "python",
   "name": "python3"
  },
  "language_info": {
   "codemirror_mode": {
    "name": "ipython",
    "version": 3
   },
   "file_extension": ".py",
   "mimetype": "text/x-python",
   "name": "python",
   "nbconvert_exporter": "python",
   "pygments_lexer": "ipython3",
   "version": "3.7.1"
  },
  "toc": {
   "base_numbering": 1,
   "nav_menu": {},
   "number_sections": true,
   "sideBar": true,
   "skip_h1_title": false,
   "title_cell": "Table of Contents",
   "title_sidebar": "Contents",
   "toc_cell": false,
   "toc_position": {},
   "toc_section_display": true,
   "toc_window_display": false
  }
 },
 "nbformat": 4,
 "nbformat_minor": 2
}
